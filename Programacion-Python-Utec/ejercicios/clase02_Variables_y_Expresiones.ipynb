{
  "nbformat": 4,
  "nbformat_minor": 0,
  "metadata": {
    "colab": {
      "provenance": [],
      "include_colab_link": true
    },
    "kernelspec": {
      "name": "python3",
      "display_name": "Python 3"
    },
    "language_info": {
      "name": "python"
    }
  },
  "cells": [
    {
      "cell_type": "markdown",
      "metadata": {
        "id": "view-in-github",
        "colab_type": "text"
      },
      "source": [
        "<a href=\"https://colab.research.google.com/github/esanruben/programa-python-utec/blob/main/Programacion-Python-Utec/ejercicios/clase02_Variables_y_Expresiones.ipynb\" target=\"_parent\"><img src=\"https://colab.research.google.com/assets/colab-badge.svg\" alt=\"Open In Colab\"/></a>"
      ]
    },
    {
      "cell_type": "markdown",
      "source": [
        "<img src=\"https://posgrado.utec.edu.pe/sites/default/files/2023-08/Testimonial-home-2.jpg\" alt=\"HTML5 Icon\" width=\"900\" height=\"250\" >\n"
      ],
      "metadata": {
        "id": "cqadFmlrgAXp"
      }
    },
    {
      "cell_type": "markdown",
      "source": [
        "# **Ejercicios - Variables y Expresiones**"
      ],
      "metadata": {
        "id": "tW1-ULBmb0Cm"
      }
    },
    {
      "cell_type": "markdown",
      "source": [
        "**Ejercicio 1: Calculadora de ahorro semanal**\n",
        "\n",
        "Pide al usuario cuánto dinero ahorra cada día de lunes a domingo. Al final, muestra cuánto ahorró en total esa semana y cuánto tendría en un mes si repite el mismo patrón cada semana.\n",
        "\n",
        "- Pista: Usar 7 variables (ahorro_lunes, ahorro_martes, …), input(), float(), +, *."
      ],
      "metadata": {
        "id": "9igzfvIKqNGr"
      }
    },
    {
      "cell_type": "code",
      "source": [
        "## INICIO DE CÓDIGO\n",
        "ahorro_lunes = float(input(\"Ingrese el monto ahorrado en lunes: \"))\n",
        "ahorro_martes = float(input(\"Ingrese el monto ahorrado en martes: \"))\n",
        "ahorro_miercoles = float(input(\"Ingrese el monto ahorrado en miercoles: \"))\n",
        "ahorro_jueves = float(input(\"Ingrese el monto ahorrado en jueves: \"))\n",
        "ahorro_viernes = float(input(\"Ingrese el monto ahorrado en viernes: \"))\n",
        "ahorro_sabado = float(input(\"Ingrese el monto ahorrado en sabado: \"))\n",
        "ahorro_domingo = float(input(\"Ingrese el monto ahorrado en domingo: \"))\n",
        "\n",
        "# suma de ahorro\n",
        "ahorro_semanal = ahorro_lunes + ahorro_martes + ahorro_miercoles + ahorro_jueves + ahorro_viernes + ahorro_sabado + ahorro_domingo\n",
        "\n",
        "print(f\"Para toda la semana has ahorrado: {ahorro_semanal}\")\n",
        "\n",
        "## FIN DE CÓDIGO"
      ],
      "metadata": {
        "id": "BX-O1-4wqWF9",
        "outputId": "2aedc95f-15b0-4c74-f85a-3a74a1a72bfa",
        "colab": {
          "base_uri": "https://localhost:8080/"
        }
      },
      "execution_count": 2,
      "outputs": [
        {
          "output_type": "stream",
          "name": "stdout",
          "text": [
            "Ingrese el monto ahorrado en lunes: 3423\n",
            "Ingrese el monto ahorrado en martes: 324\n",
            "Ingrese el monto ahorrado en miercoles: 6547\n",
            "Ingrese el monto ahorrado en jueves: 6442\n",
            "Ingrese el monto ahorrado en viernes: 234\n",
            "Ingrese el monto ahorrado en sabado: 767657\n",
            "Ingrese el monto ahorrado en domingo: 4534\n",
            "Para toda la semana has ahorrado: 789161.0\n"
          ]
        }
      ]
    },
    {
      "cell_type": "markdown",
      "source": [
        "**Ejercicio 2: Conversor de segundos**\n",
        "\n",
        "Solicita una cantidad total de segundos y muestra cuántos minutos y segundos representa.\n",
        "\n",
        "Ejemplo: 130 segundos → 2 minutos y 10 segundos\n",
        "* Pista: Usar // y %\n"
      ],
      "metadata": {
        "id": "oLaw6UggqV3E"
      }
    },
    {
      "cell_type": "code",
      "source": [
        "## INICIO DE CÓDIGO\n",
        "segundos = int(input(\"Ingrese cantidad de segundos: \"))\n",
        "\n",
        "minutos = segundos // 60\n",
        "segundos_restantes = segundos % 60\n",
        "\n",
        "print(f\"{segundos} segundos son {minutos} minutos y {segundos_restantes} segundos.\")\n",
        "\n",
        "## FIN DE CÓDIGO"
      ],
      "metadata": {
        "id": "bAuxBROrqaWb",
        "outputId": "98ad0d3a-3fa7-4674-8be6-896b08b15bc7",
        "colab": {
          "base_uri": "https://localhost:8080/"
        }
      },
      "execution_count": 3,
      "outputs": [
        {
          "output_type": "stream",
          "name": "stdout",
          "text": [
            "Ingrese cantidad de segundos: 14355\n",
            "14355 segundos son 239 minutos y 15 segundos.\n"
          ]
        }
      ]
    },
    {
      "cell_type": "markdown",
      "source": [
        "**Ejercicio 3: Puntuación de juego**\n",
        "\n",
        "Un videojuego otorga:\n",
        "\n",
        "* 10 puntos por cada estrella recolectada,\n",
        "* 50 puntos por cada gema recolectada, y\n",
        "* 1 punto por cada segundo que el jugador se mantuvo vivo.\n",
        "\n",
        "Pide al usuario las tres cantidades y muestra su puntaje total.\n",
        "\n",
        "* Pista: total = estrellas*10 + gemas*50 + tiempo"
      ],
      "metadata": {
        "id": "dK4EIGoKrW2B"
      }
    },
    {
      "cell_type": "code",
      "source": [
        "## INICIO DE CÓDIGO\n",
        "estrellas = int(input(\"cantidad de estrellas recolectadas: \"))\n",
        "gemas = int(input(\"cantidad de gemas recolectadas: \"))\n",
        "tiempo = int(input(\"cantidad de segundos que el jugador se mantuvo vivo: \"))\n",
        "\n",
        "total = estrellas * 10 + gemas * 50 + tiempo\n",
        "\n",
        "print(f\"Su puntaje total es: {total}\")\n",
        "\n",
        "## FIN DE CÓDIGO"
      ],
      "metadata": {
        "id": "jkBQHQF1rlUY",
        "outputId": "ba465ccf-7456-42e7-dc03-6c3f19613a8d",
        "colab": {
          "base_uri": "https://localhost:8080/"
        }
      },
      "execution_count": 4,
      "outputs": [
        {
          "output_type": "stream",
          "name": "stdout",
          "text": [
            "cantidad de estrellas recolectadas: 23\n",
            "cantidad de gemas recolectadas: 43\n",
            "cantidad de segundos que el jugador se mantuvo vivo: 5\n",
            "Su puntaje total es: 2385\n"
          ]
        }
      ]
    },
    {
      "cell_type": "markdown",
      "source": [
        "**Ejercicio 4: Conversor de monedas con tasa personalizada**\n",
        "\n",
        "Solicita al usuario:\n",
        "\n",
        "* El monto en soles\n",
        "* La tasa de cambio a dólares\n",
        "\n",
        "Muestra el equivalente en dólares, redondeado a 2 decimales.\n",
        "\n",
        "* Pista: Usar float(), *, round(valor, 2)"
      ],
      "metadata": {
        "id": "wW9Edl_8rlt1"
      }
    },
    {
      "cell_type": "code",
      "source": [
        "## INICIO DE CÓDIGO\n",
        "soles = float(input(\"ingresa cantidad soles: \"))\n",
        "tasa_cambio= float(input(\"ingresa tasa de cambio: \"))\n",
        "\n",
        "dolares = round(soles * tasa_cambio, 2)\n",
        "\n",
        "print(f\"{soles} soles equivalen a {dolares} dólares.\")\n",
        "## FIN DE CÓDIGO"
      ],
      "metadata": {
        "id": "fTCsCohHrmQW",
        "outputId": "bc7e26b1-0185-4390-f1d2-153151ae1309",
        "colab": {
          "base_uri": "https://localhost:8080/"
        }
      },
      "execution_count": 6,
      "outputs": [
        {
          "output_type": "stream",
          "name": "stdout",
          "text": [
            "ingresa cantidad soles: 3544\n",
            "ingresa tasa de cambio: 3.6\n",
            "3544.0 soles equivalen a 12758.4 dólares.\n"
          ]
        }
      ]
    },
    {
      "cell_type": "markdown",
      "source": [
        "**Ejercicio 5: Costo compartido de viaje**\n",
        "\n",
        "Tres amigos hacen un viaje y pagan distintos montos:\n",
        "\n",
        "* Ana pagó gasolina,\n",
        "* Luis pagó peajes,\n",
        "* Carla pagó comida.\n",
        "\n",
        "Pide los tres montos, calcula el total y cuánto debería aportar cada uno para que paguen igual.\n",
        "\n",
        "* Pista: Calcular el total y luego dividirlo entre 3"
      ],
      "metadata": {
        "id": "JYUyJAidrmnT"
      }
    },
    {
      "cell_type": "code",
      "source": [
        "## INICIO DE CÓDIGO\n",
        "ana =float(input(\"ingresa  pagado por Ana: \"))\n",
        "luis = float(input(\"ingresa  pagado por Luis: \"))\n",
        "carla = float(input(\"ingresa  pagado por Carla: \"))\n",
        "\n",
        "total = ana + luis + carla\n",
        "cadauno = (total/3)      # calcula cuanto paga cada uno.\n",
        "\n",
        "print(f\"se pago en total: {total}\")\n",
        "print(f\"cada uno pago: {round(cadauno,2)}\")  # aca quiero redondear dos decimales\n",
        "\n",
        "## FIN DE CÓDIGO"
      ],
      "metadata": {
        "id": "SGjH-m_mrom9",
        "outputId": "647c87fc-25ab-42f6-e1f1-07fa58a4bf92",
        "colab": {
          "base_uri": "https://localhost:8080/"
        }
      },
      "execution_count": 17,
      "outputs": [
        {
          "output_type": "stream",
          "name": "stdout",
          "text": [
            "ingresa  pagado por Ana: 5323\n",
            "ingresa  pagado por Luis: 34\n",
            "ingresa  pagado por Carla: 66\n",
            "se pago en total: 5423.0\n",
            "cada uno pago: 1807.67\n"
          ]
        }
      ]
    },
    {
      "cell_type": "markdown",
      "source": [
        "**Ejercicio 6: Tiempo total de estudio**\n",
        "\n",
        "Solicita al usuario cuántas horas estudió en 4 materias distintas.\n",
        "\n",
        "Muestra el total de horas de estudio en la semana y el promedio diario (considerando 7 días).\n"
      ],
      "metadata": {
        "id": "skhBiCaCro5l"
      }
    },
    {
      "cell_type": "code",
      "source": [
        "## INICIO DE CÓDIGO\n",
        "materia1 = float(input(\"ingresa horas estudiadas en materia 1: \"))\n",
        "materia2= float(input(\"ingresa horas estudiadas en materia 2: \"))\n",
        "materia3 = float(input(\"ingresa horas estudiadas en materia 3: \"))\n",
        "materia4 = float(input(\"ingresa horas estudiadas en materia 4: \"))\n",
        "\n",
        "total = materia1 + materia2 + materia3 + materia4\n",
        "\n",
        "promedio = total/4\n",
        "\n",
        "print(f\"el total de horas de estudio en la semana es: {total}\")\n",
        "print(f\"el promedio diario de horas de estudio es: {round(promedio,2)}\")\n",
        "\n",
        "\n",
        "## FIN DE CÓDIGO"
      ],
      "metadata": {
        "id": "HnFuV1RPrqXQ",
        "outputId": "701b429d-9607-4178-82f1-7c3422147178",
        "colab": {
          "base_uri": "https://localhost:8080/"
        }
      },
      "execution_count": 18,
      "outputs": [
        {
          "output_type": "stream",
          "name": "stdout",
          "text": [
            "ingresa horas estudiadas en materia 1: 4\n",
            "ingresa horas estudiadas en materia 2: 6\n",
            "ingresa horas estudiadas en materia 3: 3\n",
            "ingresa horas estudiadas en materia 4: 2\n",
            "el total de horas de estudio en la semana es: 15.0\n",
            "el promedio diario de horas de estudio es: 3.75\n"
          ]
        }
      ]
    },
    {
      "cell_type": "markdown",
      "source": [
        "**Ejercicio 7: Nombre codificado (nivel string)**\n",
        "\n",
        "Pide al usuario su nombre completo y muestra:\n",
        "\n",
        "* La cantidad de caracteres (con len())\n",
        "* Su nombre todo en mayúsculas (.upper())\n",
        "* Su nombre todo en minúsculas (.lower())\n"
      ],
      "metadata": {
        "id": "rNjtOXKWrqs5"
      }
    },
    {
      "cell_type": "code",
      "source": [
        "## INICIO DE CÓDIGO\n",
        "nombre = input(\"ingresa tu nombre completo: \")\n",
        "\n",
        "print(f\"la cantidad de carateres tiene tu nombres: {len(nombre)}\")  # qu\n",
        "print(f\"tu nombre en mayusculas es: {nombre.upper()}\")\n",
        "print(f\"tu nombre en minusculas es: {nombre.lower()}\")\n",
        "\n",
        "## FIN DE CÓDIGO"
      ],
      "metadata": {
        "id": "GnGm74GXrsL0",
        "outputId": "666c1c36-b3fd-4117-b35d-4bf6bb1cb85e",
        "colab": {
          "base_uri": "https://localhost:8080/"
        }
      },
      "execution_count": 21,
      "outputs": [
        {
          "output_type": "stream",
          "name": "stdout",
          "text": [
            "ingresa tu nombre completo: Ruben Cano\n",
            "la cantidad de carateres tiene tu nombres: 10\n",
            "tu nombre en mayusculas es: RUBEN CANO\n",
            "tu nombre en minusculas es: ruben cano\n"
          ]
        }
      ]
    },
    {
      "cell_type": "markdown",
      "source": [
        "**Ejercicio 8: Frase repetida**\n",
        "\n",
        "Pide una frase y un número n, y muestra la frase repetida n veces, cada una en una línea.\n",
        "\n",
        "* Pista: print(frase * n)  # y/o con '\\n'"
      ],
      "metadata": {
        "id": "lrhPyjmWrse2"
      }
    },
    {
      "cell_type": "code",
      "source": [
        "## INICIO DE CÓDIGO\n",
        "frase = input(\"frase: \")\n",
        "n = int(input(\"numero: \"))\n",
        "\n",
        "for i in range(n):\n",
        "  print(frase)\n",
        "## FIN DE CÓDIGO"
      ],
      "metadata": {
        "id": "Vzef3t_Lru0p",
        "outputId": "056c6313-32cc-4569-c083-21065ba4368c",
        "colab": {
          "base_uri": "https://localhost:8080/"
        }
      },
      "execution_count": 22,
      "outputs": [
        {
          "output_type": "stream",
          "name": "stdout",
          "text": [
            "frase: El tiempo es oro\n",
            "numero: 5\n",
            "El tiempo es oro\n",
            "El tiempo es oro\n",
            "El tiempo es oro\n",
            "El tiempo es oro\n",
            "El tiempo es oro\n"
          ]
        }
      ]
    },
    {
      "cell_type": "markdown",
      "source": [
        "**Ejercicio 9: División de cuentas**\n",
        "\n",
        "Un grupo de amigos pide una cuenta por S/ 250.\n",
        "Pide al usuario cuántas personas están en el grupo y muestra cuánto debe pagar cada uno.\n",
        "\n",
        "Asegúrate de redondear el resultado a 2 decimales.\n",
        "\n",
        "* Pista: Usa la funcion round()"
      ],
      "metadata": {
        "id": "5NpbbGR_rvNH"
      }
    },
    {
      "cell_type": "code",
      "source": [
        "## INICIO DE CÓDIGO\n",
        "personas =int(input(\"cuantas personas:\"))\n",
        "total = 250/personas\n",
        "\n",
        "print(f\"la cantidad que debe pagar cada uno es: {round(total/personas,2)}\")\n",
        "\n",
        "## FIN DE CÓDIGO"
      ],
      "metadata": {
        "id": "uMxuVCUVrvj6",
        "outputId": "2d698eec-270e-414b-9905-589e79a56b0d",
        "colab": {
          "base_uri": "https://localhost:8080/"
        }
      },
      "execution_count": 23,
      "outputs": [
        {
          "output_type": "stream",
          "name": "stdout",
          "text": [
            "cuantas personas:4\n",
            "la cantidad que debe pagar cada uno es: 15.62\n"
          ]
        }
      ]
    },
    {
      "cell_type": "markdown",
      "source": [
        "**Ejercicio 10: Calendario de clases**\n",
        "\n",
        "Pide cuántas horas se estudia en promedio por día, y cuántos días tiene el mes.\n",
        "\n",
        "Calcula cuántas horas de estudio habrá ese mes."
      ],
      "metadata": {
        "id": "p3PYp0l4pxuI"
      }
    },
    {
      "cell_type": "code",
      "source": [
        "## INICIO DE CÓDIGO\n",
        "horas_dia=int(input(\"cuantas horas estudias por dia \"))\n",
        "mes= int(input(\"dias del mes: \"))\n",
        "\n",
        "estudio_mes = horas_dia * mes\n",
        "\n",
        "print(f\"al mes estudiaras: {estudio_mes}\")\n",
        "\n",
        "## FIN DE CÓDIGO"
      ],
      "metadata": {
        "id": "y1bXFffhrxk2",
        "outputId": "7e2cc26c-13e9-49fb-fbd6-204237df0289",
        "colab": {
          "base_uri": "https://localhost:8080/"
        }
      },
      "execution_count": 24,
      "outputs": [
        {
          "output_type": "stream",
          "name": "stdout",
          "text": [
            "cuantas horas estudias por dia4\n",
            "dias del mes: 28\n",
            "al mes estudiaras: 112\n"
          ]
        }
      ]
    },
    {
      "cell_type": "markdown",
      "source": [
        "---\n",
        "\n",
        "# Gracias por completar este laboratorio!\n",
        "\n",
        "---\n"
      ],
      "metadata": {
        "id": "8_ZocYoOrx3Z"
      }
    }
  ]
}