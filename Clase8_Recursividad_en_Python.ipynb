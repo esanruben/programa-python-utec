{
  "nbformat": 4,
  "nbformat_minor": 0,
  "metadata": {
    "colab": {
      "provenance": [],
      "include_colab_link": true
    },
    "kernelspec": {
      "name": "python3",
      "display_name": "Python 3"
    },
    "language_info": {
      "name": "python"
    }
  },
  "cells": [
    {
      "cell_type": "markdown",
      "metadata": {
        "id": "view-in-github",
        "colab_type": "text"
      },
      "source": [
        "<a href=\"https://colab.research.google.com/github/esanruben/programa-python-utec/blob/main/Clase8_Recursividad_en_Python.ipynb\" target=\"_parent\"><img src=\"https://colab.research.google.com/assets/colab-badge.svg\" alt=\"Open In Colab\"/></a>"
      ]
    },
    {
      "cell_type": "markdown",
      "source": [
        "# Recursividad en Python"
      ],
      "metadata": {
        "id": "OVwQVEDyn2yr"
      }
    },
    {
      "cell_type": "markdown",
      "source": [
        "**Objetivos de aprendizaje**\n",
        "\n",
        "- Comprender qué es la recursividad y cuándo se utiliza.\n",
        "- Aprender a escribir funciones recursivas en Python.\n",
        "- Diferenciar entre recursión y repetición con for/while.\n",
        "- Aplicar recursividad en problemas reales de análisis de datos, marketing, finanzas y ecommerce."
      ],
      "metadata": {
        "id": "uZ1tHNswn-OP"
      }
    },
    {
      "cell_type": "markdown",
      "source": [
        "**1. TEORÍA**\n",
        "\n",
        "**¿Qué es la recursividad?**\n",
        "\n",
        "La recursividad es una técnica en la que una función se llama a sí misma para resolver un problema más grande dividiéndolo en subproblemas más pequeños."
      ],
      "metadata": {
        "id": "zA01peWZoIPA"
      }
    },
    {
      "cell_type": "markdown",
      "source": [
        "**Requisitos:**\n",
        "\n",
        "Caso base: condición que detiene la recursión.\n",
        "Paso recursivo: llamada a la misma función con un nuevo valor."
      ],
      "metadata": {
        "id": "AXGBG7FeoQHf"
      }
    },
    {
      "cell_type": "markdown",
      "source": [
        "**Ejemplo clásico:**\n",
        "\n",
        "Factorial"
      ],
      "metadata": {
        "id": "7bvUZWFtoUiN"
      }
    },
    {
      "cell_type": "markdown",
      "source": [
        "## se usa Recursividad"
      ],
      "metadata": {
        "id": "o66Ex5iWj34j"
      }
    },
    {
      "cell_type": "code",
      "execution_count": 43,
      "metadata": {
        "id": "NSUQT0MnnwWc",
        "colab": {
          "base_uri": "https://localhost:8080/",
          "height": 53
        },
        "outputId": "f96b224b-0e1b-4421-da4e-a209596f80f1"
      },
      "outputs": [
        {
          "output_type": "execute_result",
          "data": {
            "text/plain": [
              "'digamos que queremos factorial de 7,,   n=7 * factorial (7-1)   seria   7 x 6 y asi hasta el 1la razon de n es para empezar a multiplicar con el numero 7'"
            ],
            "application/vnd.google.colaboratory.intrinsic+json": {
              "type": "string"
            }
          },
          "metadata": {},
          "execution_count": 43
        }
      ],
      "source": [
        "def factorial(n):\n",
        "    if n == 0:\n",
        "        return 1  # caso base\n",
        "    else:\n",
        "        return n * factorial(n - 1)  # paso recursivo\n",
        "\n",
        "'''digamos que queremos factorial de 7,,   n=7 * factorial (7-1)   seria   7 x 6 y asi hasta el 1la razon de n es para empezar a multiplicar con el numero 7'''"
      ]
    },
    {
      "cell_type": "code",
      "source": [
        "factorial(3)"
      ],
      "metadata": {
        "id": "I9IMU1DEfZ2C",
        "outputId": "e5811e77-0a20-4f30-ca0c-362bf8dfaf36",
        "colab": {
          "base_uri": "https://localhost:8080/"
        }
      },
      "execution_count": 44,
      "outputs": [
        {
          "output_type": "execute_result",
          "data": {
            "text/plain": [
              "6"
            ]
          },
          "metadata": {},
          "execution_count": 44
        }
      ]
    },
    {
      "cell_type": "markdown",
      "source": [
        "## Si lo hago por for\n"
      ],
      "metadata": {
        "id": "xNJ6nvjxjyrh"
      }
    },
    {
      "cell_type": "code",
      "source": [
        "def factorial(n):\n",
        "    x=1\n",
        "    for i in range(1,n+1):\n",
        "        x = x * i\n",
        "        return x"
      ],
      "metadata": {
        "id": "HSodoYJ7ZPhO"
      },
      "execution_count": 23,
      "outputs": []
    },
    {
      "cell_type": "code",
      "source": [
        "n=3"
      ],
      "metadata": {
        "id": "q2na4yLfhxRL"
      },
      "execution_count": 28,
      "outputs": []
    },
    {
      "cell_type": "code",
      "source": [
        "x=1"
      ],
      "metadata": {
        "id": "lgyyIYo9iEhM"
      },
      "execution_count": 37,
      "outputs": []
    },
    {
      "cell_type": "code",
      "source": [
        "for i in range(1, n+1):\n",
        "    x =x * i\n",
        "    print(x)"
      ],
      "metadata": {
        "id": "0B-1UtzHiwNx",
        "outputId": "75887bc8-1281-4e09-c285-01fa9e272dcf",
        "colab": {
          "base_uri": "https://localhost:8080/"
        }
      },
      "execution_count": 38,
      "outputs": [
        {
          "output_type": "stream",
          "name": "stdout",
          "text": [
            "1\n",
            "2\n",
            "6\n"
          ]
        }
      ]
    },
    {
      "cell_type": "markdown",
      "source": [
        "**2. EJEMPLOS APLICADOS**"
      ],
      "metadata": {
        "id": "kefRXtnToeLJ"
      }
    },
    {
      "cell_type": "code",
      "source": [
        "def interes_compuesto(capital, tasa, años):\n",
        "    if años == 0:          # esta es la base, por lo que se puede detener el codigo\n",
        "        return capital\n",
        "    else:\n",
        "        return interes_compuesto(capital * (1 + tasa), tasa, años - 1) # desarrolla la formula, capital*(1+tasa)\n",
        "\n",
        "print(interes_compuesto(1000, 0.05, 3))  # 1157.625\n",
        "\n",
        "\n"
      ],
      "metadata": {
        "id": "w1GSGHvtoi2Q",
        "colab": {
          "base_uri": "https://localhost:8080/"
        },
        "outputId": "dd6be691-90f8-464b-9eee-72fca59b568a"
      },
      "execution_count": 45,
      "outputs": [
        {
          "output_type": "stream",
          "name": "stdout",
          "text": [
            "1157.625\n"
          ]
        }
      ]
    },
    {
      "cell_type": "markdown",
      "source": [
        "La de arriba\n",
        "Desarrollo correcto:   explicacion correcta\n",
        "\n",
        "def interes_compuesto(capital, tasa, años):\n",
        "    if años == 0: #Si han pasado todos los años\n",
        "        return capital #devuel el capital acumulado hasat\n",
        "    else: #mientras queden años > 0\n",
        "        return interes_compuesto(capital * (1 + tasa), tasa, años - 1) #fórmula\n",
        "print(interes_compuesto(1000, 0.05, 3))  # 1157.625\n",
        "##capital año 3 = 1000*(1+0.05) = 1000(1.05) = 1050\n",
        "##capital año 2 = 1050*(1.05) = 1102.5\n",
        "##capital año 1 = 1102.5(1.05) = 1157.625\n",
        "##capital año 0 = capital acumulado = 1157.625\n",
        "\n"
      ],
      "metadata": {
        "id": "VBx7G7QqlQnQ"
      }
    },
    {
      "cell_type": "code",
      "source": [
        "def suma_ventas(ventas):\n",
        "    if len(ventas) == 0:  #si la cantidad de elementos de listas es 0\n",
        "        return 0\n",
        "    else:\n",
        "        return ventas[0] + suma_ventas(ventas[1:])  # la recursividad es un reemplazo al for, es mas facil de ver\n",
        "\n",
        "print(suma_ventas([120, 340, 560]))  # 1020"
      ],
      "metadata": {
        "id": "kxx-2ynOonJ2",
        "colab": {
          "base_uri": "https://localhost:8080/"
        },
        "outputId": "c41bca00-12ca-445a-a808-80ab294c8cf9"
      },
      "execution_count": 58,
      "outputs": [
        {
          "output_type": "stream",
          "name": "stdout",
          "text": [
            "1020\n"
          ]
        }
      ]
    },
    {
      "cell_type": "code",
      "source": [
        "def suma_ventas(ventas):\n",
        "    total = 0\n",
        "    for venta in ventas:\n",
        "        total = total + venta\n",
        "        return total"
      ],
      "metadata": {
        "id": "6TIJ5b0zs_KL"
      },
      "execution_count": 60,
      "outputs": []
    },
    {
      "cell_type": "code",
      "source": [],
      "metadata": {
        "id": "sQ-xZfdNs9ea"
      },
      "execution_count": null,
      "outputs": []
    },
    {
      "cell_type": "code",
      "source": [
        "def contar_clics_positivos(lista):\n",
        "    if not lista:\n",
        "        return 0\n",
        "    if lista[0] > 0:\n",
        "        return 1 + contar_clics_positivos(lista[1:])\n",
        "    else:\n",
        "        return contar_clics_positivos(lista[1:])\n",
        "\n",
        "clics = [1, 0, 2, 0, 5]\n",
        "print(contar_clics_positivos(clics))  # 3"
      ],
      "metadata": {
        "id": "HwcRhlUPoqvZ",
        "colab": {
          "base_uri": "https://localhost:8080/"
        },
        "outputId": "97678e46-ace1-46fd-8c70-2466cfe5a1f8"
      },
      "execution_count": 62,
      "outputs": [
        {
          "output_type": "stream",
          "name": "stdout",
          "text": [
            "3\n"
          ]
        }
      ]
    },
    {
      "cell_type": "code",
      "source": [
        "clics = [1, 0, 2, 0, 5]\n",
        "def clics_positivos(lista):\n",
        "    contador= 0\n",
        "    for i in lista:\n",
        "        if i > 0:\n",
        "            contador = contador + 1\n",
        "\n",
        "    return contador"
      ],
      "metadata": {
        "id": "7dr5ZfsLzNRU"
      },
      "execution_count": 66,
      "outputs": []
    },
    {
      "cell_type": "code",
      "source": [],
      "metadata": {
        "id": "lxR-_ACy1-s-"
      },
      "execution_count": null,
      "outputs": []
    },
    {
      "cell_type": "markdown",
      "source": [
        "**3. PRÁCTICA GUIADA**\n",
        "\n",
        "Paso a paso:\n",
        "- Identificar el caso base.\n",
        "- Establecer el paso recursivo.\n",
        "- Validar inputs extremos (0, negativos, listas vacías)."
      ],
      "metadata": {
        "id": "Og9d7Lw9ot5S"
      }
    },
    {
      "cell_type": "markdown",
      "source": [
        "1. Crear una función recursiva que cuente regresivamente desde un número dado hasta 0.\n",
        "2. Crear una función recursiva para calcular la suma de los primeros n números naturales.\n",
        "3. Escribir una función que recorra recursivamente una lista de precios y devuelva el precio mayor.\n",
        "4. Dado un diccionario de ventas por categoría, usar recursividad para sumar todas las ventas.\n",
        "5. En una lista de deudas, usar recursividad para saber cuántas superan cierto umbral (e.g. > 1000).\n",
        "6. Calcular cuántos productos tienen descuento en una lista de booleanos [True, False, True...].\n",
        "7. Crear una función recursiva para contar cuántas veces aparece una palabra clave en una lista de campañas de marketing."
      ],
      "metadata": {
        "id": "3q030OJ6o764"
      }
    }
  ]
}