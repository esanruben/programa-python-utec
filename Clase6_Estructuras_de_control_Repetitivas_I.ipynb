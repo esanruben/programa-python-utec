{
  "nbformat": 4,
  "nbformat_minor": 0,
  "metadata": {
    "colab": {
      "provenance": [],
      "include_colab_link": true
    },
    "kernelspec": {
      "name": "python3",
      "display_name": "Python 3"
    },
    "language_info": {
      "name": "python"
    }
  },
  "cells": [
    {
      "cell_type": "markdown",
      "metadata": {
        "id": "view-in-github",
        "colab_type": "text"
      },
      "source": [
        "<a href=\"https://colab.research.google.com/github/esanruben/programa-python-utec/blob/main/Clase6_Estructuras_de_control_Repetitivas_I.ipynb\" target=\"_parent\"><img src=\"https://colab.research.google.com/assets/colab-badge.svg\" alt=\"Open In Colab\"/></a>"
      ]
    },
    {
      "cell_type": "markdown",
      "source": [
        "# 1. Introducción a Diccionarios"
      ],
      "metadata": {
        "id": "ZXZB5T0_yOyz"
      }
    },
    {
      "cell_type": "markdown",
      "source": [
        "**¿Qué es un diccionario?**\n",
        "\n",
        "Es una colección de datos en formato clave: valor.\n",
        "\n",
        "Permite acceder a la información mediante claves, no por posición como las listas.\n",
        "\n"
      ],
      "metadata": {
        "id": "IYQZoyHT2EIY"
      }
    },
    {
      "cell_type": "markdown",
      "source": [
        "**¿Para qué sirve?**\n",
        "\n",
        "Ideal para representar objetos del mundo real.\n",
        "\n",
        "Muy útil en el sector financiero para almacenar datos de clientes, productos financieros, tasas, etc."
      ],
      "metadata": {
        "id": "RtUMR-2i2NoZ"
      }
    },
    {
      "cell_type": "markdown",
      "source": [
        "Ejemplo:"
      ],
      "metadata": {
        "id": "f7P8f-Xp2Vxd"
      }
    },
    {
      "cell_type": "code",
      "source": [
        "cliente = {\n",
        "    \"nombre\": \"Ana\",\n",
        "    \"edad\": 35,\n",
        "    \"ingreso\": 4500,\n",
        "    \"morosidades\": 0\n",
        "}\n",
        "print(cliente[\"ingreso\"])  # Acceder al ingreso del cliente"
      ],
      "metadata": {
        "id": "XoMaweyb2JzS",
        "outputId": "cd9b7ebd-d0c2-47c4-b8dd-05b11a4f684d",
        "colab": {
          "base_uri": "https://localhost:8080/"
        }
      },
      "execution_count": null,
      "outputs": [
        {
          "output_type": "stream",
          "name": "stdout",
          "text": [
            "4500\n"
          ]
        }
      ]
    },
    {
      "cell_type": "code",
      "source": [
        "cliente"
      ],
      "metadata": {
        "id": "27R3sug8TRz1",
        "outputId": "7246d2c3-903a-4445-e600-288fd8907da8",
        "colab": {
          "base_uri": "https://localhost:8080/"
        }
      },
      "execution_count": null,
      "outputs": [
        {
          "output_type": "execute_result",
          "data": {
            "text/plain": [
              "{'nombre': 'Ana', 'edad': 35, 'ingreso': 4500, 'morosidades': 0}"
            ]
          },
          "metadata": {},
          "execution_count": 5
        }
      ]
    },
    {
      "cell_type": "code",
      "source": [
        "alumno={\n",
        "    \"nombre\": 'Ruben',\n",
        "    \"carrera\": \"Ingenieria sistemas\",  #tiene que ir una coma despues de cada uno.\n",
        "    \"hobby\":'futbol'\n",
        "}\n",
        "print(alumno[\"carrera\"])\n"
      ],
      "metadata": {
        "id": "5PSutTEpQ2c4",
        "outputId": "dc0ec477-628b-4ab5-f5a7-ae0cdeedd4fa",
        "colab": {
          "base_uri": "https://localhost:8080/"
        }
      },
      "execution_count": null,
      "outputs": [
        {
          "output_type": "stream",
          "name": "stdout",
          "text": [
            "Ingenieria sistemas\n"
          ]
        }
      ]
    },
    {
      "cell_type": "code",
      "source": [
        "alumno [\"musica\"] =\"salsa\"\n",
        "alumno"
      ],
      "metadata": {
        "id": "Ajk8A9E7Tn2r",
        "outputId": "f54b6b0f-5452-4bb7-cb4c-0be1e055a752",
        "colab": {
          "base_uri": "https://localhost:8080/"
        }
      },
      "execution_count": null,
      "outputs": [
        {
          "output_type": "execute_result",
          "data": {
            "text/plain": [
              "{'nombre': 'Ruben',\n",
              " 'carrera': 'Ingenieria sistemas',\n",
              " 'hobby': 'futbol',\n",
              " 'musica': 'salsa'}"
            ]
          },
          "metadata": {},
          "execution_count": 9
        }
      ]
    },
    {
      "cell_type": "markdown",
      "source": [
        "**Cómo acceder a valores:**\n",
        "\n",
        "Usando la clave: diccionario[\"clave\"]"
      ],
      "metadata": {
        "id": "w4ylLTfU2aeH"
      }
    },
    {
      "cell_type": "markdown",
      "source": [
        "**Añadir nuevo par clave-valor:**"
      ],
      "metadata": {
        "id": "jmS8eewO2fFC"
      }
    },
    {
      "cell_type": "code",
      "execution_count": null,
      "metadata": {
        "id": "uUEYtzY9x5Gm"
      },
      "outputs": [],
      "source": [
        "cliente[\"tipo_credito\"] = \"Hipotecario\"\n",
        "#corchete crea el nombre de la llave, y luego el valor asociado a la llave"
      ]
    },
    {
      "cell_type": "code",
      "source": [
        "cliente"
      ],
      "metadata": {
        "id": "akt_bKGETbHn",
        "outputId": "735c5caf-a16f-45d2-c6cd-24e41b1578af",
        "colab": {
          "base_uri": "https://localhost:8080/"
        }
      },
      "execution_count": null,
      "outputs": [
        {
          "output_type": "execute_result",
          "data": {
            "text/plain": [
              "{'nombre': 'Ana',\n",
              " 'edad': 35,\n",
              " 'ingreso': 4500,\n",
              " 'morosidades': 0,\n",
              " 'tipo_credito': 'Hipotecario'}"
            ]
          },
          "metadata": {},
          "execution_count": 7
        }
      ]
    },
    {
      "cell_type": "markdown",
      "source": [
        "**Empezar con un diccionario vacío:**"
      ],
      "metadata": {
        "id": "51g4lCo92lwQ"
      }
    },
    {
      "cell_type": "code",
      "source": [
        "artefactos={}\n",
        "artefactos[\"modem\"]= \"nuevo\"\n",
        "artefactos[\"audifonos\"]= \"sony\"\n",
        "artefactos"
      ],
      "metadata": {
        "id": "i6fKh2rJUmuQ",
        "outputId": "57626a43-5ae0-4ef3-c879-407193c0296a",
        "colab": {
          "base_uri": "https://localhost:8080/"
        }
      },
      "execution_count": null,
      "outputs": [
        {
          "output_type": "execute_result",
          "data": {
            "text/plain": [
              "{'modem': 'nuevo', 'audifonos': 'sony'}"
            ]
          },
          "metadata": {},
          "execution_count": 11
        }
      ]
    },
    {
      "cell_type": "code",
      "source": [
        "artefactos[\"audifonos\"]=\"Bose\"  # modifica\n",
        "artefactos"
      ],
      "metadata": {
        "id": "pwLbNfPfVRZw",
        "outputId": "4ec2a559-ca49-4ace-cdd7-40da536adb88",
        "colab": {
          "base_uri": "https://localhost:8080/"
        }
      },
      "execution_count": null,
      "outputs": [
        {
          "output_type": "execute_result",
          "data": {
            "text/plain": [
              "{'modem': 'nuevo', 'audifonos': 'Bose'}"
            ]
          },
          "metadata": {},
          "execution_count": 15
        }
      ]
    },
    {
      "cell_type": "code",
      "source": [
        "nuevo_cliente = {}  # diccionario vacio/ usas {}\n",
        "nuevo_cliente[\"nombre\"] = \"Luis\"\n",
        "nuevo_cliente[\"ingreso\"] = 3000\n",
        "nuevo_cliente[\"hobby\"] = \"fronton\""
      ],
      "metadata": {
        "id": "tpK5NSue2mx3"
      },
      "execution_count": null,
      "outputs": []
    },
    {
      "cell_type": "code",
      "source": [
        "nuevos ={                     # crear un diccionario / que contiene un diccionario\n",
        "    \"alumno\":{\"nombre\":\"Ruben\",\"hobby\":\"futbol\"},\n",
        "    \"nuevo_cliente\":{\"nombre\":\"Luis\",\"hobby\":\"fronton\"}\n",
        "}\n",
        "\n",
        "nuevos[\"alumno\"][\"nombre\"]=\"Andres\"  #modificar diccionario, dentro otro diccionario\n",
        "nuevos"
      ],
      "metadata": {
        "id": "lr3FEm6gW-KU",
        "outputId": "18967007-6c5d-4a8e-80ea-4dfd6f7db6bf",
        "colab": {
          "base_uri": "https://localhost:8080/"
        }
      },
      "execution_count": null,
      "outputs": [
        {
          "output_type": "execute_result",
          "data": {
            "text/plain": [
              "{'alumno': {'nombre': 'Andres', 'hobby': 'futbol'},\n",
              " 'nuevo_cliente': {'nombre': 'Luis', 'hobby': 'fronton'}}"
            ]
          },
          "metadata": {},
          "execution_count": 19
        }
      ]
    },
    {
      "cell_type": "code",
      "source": [
        "#agregar una elemento en un diccionario\n",
        "nuevos[\"nuevo_cliente\"][\"musica\"]= \"salsa\"\n",
        "nuevos"
      ],
      "metadata": {
        "id": "rmQ82Vhwa3iK",
        "outputId": "c21be6c7-95ba-4ed4-9b31-110d6c10a4b8",
        "colab": {
          "base_uri": "https://localhost:8080/"
        }
      },
      "execution_count": null,
      "outputs": [
        {
          "output_type": "execute_result",
          "data": {
            "text/plain": [
              "{'alumno': {'nombre': 'Andres', 'hobby': 'futbol'},\n",
              " 'nuevo_cliente': {'nombre': 'Luis', 'hobby': 'fronton', 'musica': 'salsa'}}"
            ]
          },
          "metadata": {},
          "execution_count": 20
        }
      ]
    },
    {
      "cell_type": "markdown",
      "source": [
        "**Modificar valores:**"
      ],
      "metadata": {
        "id": "_sa6x1ct2rOy"
      }
    },
    {
      "cell_type": "code",
      "source": [
        "cliente[\"ingreso\"] = 5000   # nombre del diccionario [valor] = nuevo valor\n",
        "cliente"
      ],
      "metadata": {
        "id": "6pQI6-vr2vpI",
        "outputId": "b6da1ef4-ca38-4db9-89ac-ad1c81e4face",
        "colab": {
          "base_uri": "https://localhost:8080/"
        }
      },
      "execution_count": null,
      "outputs": [
        {
          "output_type": "execute_result",
          "data": {
            "text/plain": [
              "{'nombre': 'Ana',\n",
              " 'edad': 35,\n",
              " 'ingreso': 5000,\n",
              " 'morosidades': 0,\n",
              " 'tipo_credito': 'Hipotecario'}"
            ]
          },
          "metadata": {},
          "execution_count": 12
        }
      ]
    },
    {
      "cell_type": "markdown",
      "source": [
        "**Eliminar pares clave-valor:**"
      ],
      "metadata": {
        "id": "DUHgSOL22xrI"
      }
    },
    {
      "cell_type": "code",
      "source": [
        "clientes = {\n",
        "    \"001\": {\"nombre\": \"Ana\", \"ingreso\": 4000},\n",
        "    \"002\": {\"nombre\": \"Luis\", \"ingreso\": 3000}\n",
        "}"
      ],
      "metadata": {
        "id": "Aq7-4wBo205G"
      },
      "execution_count": null,
      "outputs": []
    },
    {
      "cell_type": "code",
      "source": [
        "del clientes['001']  # para borrar\n",
        "clientes"
      ],
      "metadata": {
        "id": "8l5tlFXXbJEw",
        "outputId": "f8d1c795-cd41-4b5e-c426-83a83681174c",
        "colab": {
          "base_uri": "https://localhost:8080/"
        }
      },
      "execution_count": null,
      "outputs": [
        {
          "output_type": "execute_result",
          "data": {
            "text/plain": [
              "{'002': {'nombre': 'Luis', 'ingreso': 3000}}"
            ]
          },
          "metadata": {},
          "execution_count": 24
        }
      ]
    },
    {
      "cell_type": "markdown",
      "source": [
        "### **Modificar el nombre dentro del diccionario del diccionario**"
      ],
      "metadata": {
        "id": "1tmYA5SHZ5pb"
      }
    },
    {
      "cell_type": "markdown",
      "source": [
        "**Ejercicio 1:**\n",
        "\n",
        "Crea un diccionario para un producto financiero con claves como nombre, tasa de interés y tipo. Luego accede a la tasa de interés y modifícala.\n",
        "\n",
        "\n",
        "\n"
      ],
      "metadata": {
        "id": "83NKUBXf23zf"
      }
    },
    {
      "cell_type": "code",
      "source": [
        "financiero ={\n",
        "    \"nombre\":\"beca\",\n",
        "    \"tasa_interes\":0.05,\n",
        "    \"tipo\": \"nuevo\"\n",
        "}\n",
        "financiero[\"tasa_interes\"]  # llaman solo la llave tasa de interes"
      ],
      "metadata": {
        "id": "OD7RRVDzblFZ",
        "outputId": "7067e04c-384b-4997-fd99-4e5e3a25dff7",
        "colab": {
          "base_uri": "https://localhost:8080/"
        }
      },
      "execution_count": null,
      "outputs": [
        {
          "output_type": "execute_result",
          "data": {
            "text/plain": [
              "0.05"
            ]
          },
          "metadata": {},
          "execution_count": 26
        }
      ]
    },
    {
      "cell_type": "code",
      "source": [
        "financiero[\"tasa_interes\"]=0.07 # modifica la tasa de interes\n",
        "financiero"
      ],
      "metadata": {
        "id": "-4W0C-HxcIdG",
        "outputId": "721e50ec-f7c0-4761-8fda-6555f69dc27b",
        "colab": {
          "base_uri": "https://localhost:8080/"
        }
      },
      "execution_count": null,
      "outputs": [
        {
          "output_type": "execute_result",
          "data": {
            "text/plain": [
              "{'nombre': 'beca', 'tasa_interes': 0.07, 'tipo': 'nuevo'}"
            ]
          },
          "metadata": {},
          "execution_count": 27
        }
      ]
    },
    {
      "cell_type": "markdown",
      "source": [
        "**Ejercicio 2:**\n",
        "\n",
        "Crea un diccionario de 3 clientes con su nombre e ingresos. Agrega un nuevo cliente. Luego, elimina uno de los existentes."
      ],
      "metadata": {
        "id": "Czi-iYwt27Lr"
      }
    },
    {
      "cell_type": "code",
      "source": [
        "clientes={\n",
        "    \"1\":{\"nombre\":\"Karla\",\"ingreso\":2000},\n",
        "    \"2\":{\"nombre\":\"Andres\",\"ingreso\":2000}\n",
        "}\n",
        "\n",
        "clientes [\"3\"]= {\"nombre\":\"Luis\",\"ingreso\":2000}  # agregas un nuevo diccionario, un nuevo cliente\n",
        "clientes"
      ],
      "metadata": {
        "id": "tpNocgSXg7O6",
        "outputId": "850b4674-e558-425a-dfce-9b316421086d",
        "colab": {
          "base_uri": "https://localhost:8080/"
        }
      },
      "execution_count": null,
      "outputs": [
        {
          "output_type": "execute_result",
          "data": {
            "text/plain": [
              "{'1': {'nombre': 'Karla', 'ingreso': 2000},\n",
              " '2': {'nombre': 'Andres', 'ingreso': 2000},\n",
              " '3': {'nombre': 'Luis', 'ingreso': 2000}}"
            ]
          },
          "metadata": {},
          "execution_count": 28
        }
      ]
    },
    {
      "cell_type": "code",
      "source": [
        "del clientes[\"1\"]    # eliminas al cliente 1\n",
        "clientes"
      ],
      "metadata": {
        "id": "Rx3hhSlLiD9e",
        "outputId": "6363a81b-4e1f-49f2-ff35-0d812f512647",
        "colab": {
          "base_uri": "https://localhost:8080/"
        }
      },
      "execution_count": null,
      "outputs": [
        {
          "output_type": "execute_result",
          "data": {
            "text/plain": [
              "{'2': {'nombre': 'Andres', 'ingreso': 2000},\n",
              " '3': {'nombre': 'Luis', 'ingreso': 2000}}"
            ]
          },
          "metadata": {},
          "execution_count": 29
        }
      ]
    },
    {
      "cell_type": "markdown",
      "source": [
        "# 2. For en Python"
      ],
      "metadata": {
        "id": "w2oBkGm-3IZi"
      }
    },
    {
      "cell_type": "markdown",
      "source": [
        "**¿Qué es for?**\n",
        "\n",
        "Una estructura de control repetitiva.\n",
        "\n",
        "Se usa para recorrer elementos de una lista, string o diccionario."
      ],
      "metadata": {
        "id": "vqkAmEE33Ov0"
      }
    },
    {
      "cell_type": "markdown",
      "source": [
        "**¿Para qué sirve?**\n",
        "\n",
        "Automatizar procesos repetitivos, como revisar múltiples clientes o productos financieros."
      ],
      "metadata": {
        "id": "6NnHm2Zw3RFo"
      }
    },
    {
      "cell_type": "markdown",
      "source": [
        "**Sintaxis básica:**\n"
      ],
      "metadata": {
        "id": "tJGAMI9Q3TwI"
      }
    },
    {
      "cell_type": "code",
      "source": [
        "lista_clientes=[\"Ana\",\"Sofia\",\"Andres\"]\n",
        "lista_clientes"
      ],
      "metadata": {
        "id": "BleDTl08mFD6",
        "outputId": "7ead0b9d-11b9-4928-9d6b-a39ab4121817",
        "colab": {
          "base_uri": "https://localhost:8080/"
        }
      },
      "execution_count": 30,
      "outputs": [
        {
          "output_type": "execute_result",
          "data": {
            "text/plain": [
              "['Ana', 'Sofia', 'Andres']"
            ]
          },
          "metadata": {},
          "execution_count": 30
        }
      ]
    },
    {
      "cell_type": "code",
      "source": [
        "for cliente in lista_clientes:  # cliente es un variable temporal\n",
        "    print(cliente)"
      ],
      "metadata": {
        "id": "lGd8GFjZ26u5",
        "outputId": "4458b9c8-dce9-4b87-b9c2-088890fea04f",
        "colab": {
          "base_uri": "https://localhost:8080/"
        }
      },
      "execution_count": 31,
      "outputs": [
        {
          "output_type": "stream",
          "name": "stdout",
          "text": [
            "Ana\n",
            "Sofia\n",
            "Andres\n"
          ]
        }
      ]
    },
    {
      "cell_type": "markdown",
      "source": [
        "**¿Por qué es repetitiva?**\n",
        "\n",
        "Porque ejecuta el mismo bloque de código por cada elemento en la secuencia."
      ],
      "metadata": {
        "id": "zbzptSdD3cZ6"
      }
    },
    {
      "cell_type": "code",
      "source": [
        "ingresos = [1000, 2000, 3000,2000,1500,2300,2345]\n",
        "for ingreso in ingresos:\n",
        "    print(\"Ingreso anual:\", ingreso * 12)  # aca calcula x 12 cada elemento"
      ],
      "metadata": {
        "id": "ddfuukXf3a-T",
        "outputId": "f6cbc8f1-9d19-4143-bbdc-54743b0f8d25",
        "colab": {
          "base_uri": "https://localhost:8080/"
        }
      },
      "execution_count": 37,
      "outputs": [
        {
          "output_type": "stream",
          "name": "stdout",
          "text": [
            "Ingreso anual: 12000\n",
            "Ingreso anual: 24000\n",
            "Ingreso anual: 36000\n",
            "Ingreso anual: 24000\n",
            "Ingreso anual: 18000\n",
            "Ingreso anual: 27600\n",
            "Ingreso anual: 28140\n"
          ]
        }
      ]
    },
    {
      "cell_type": "code",
      "source": [
        "for ingreso in ingresos:\n",
        "    print(\"Ingreso :\", ingreso)"
      ],
      "metadata": {
        "id": "SP95OpOhpDcA",
        "outputId": "7562fd5a-7aad-43ef-ab80-922a47868e7f",
        "colab": {
          "base_uri": "https://localhost:8080/"
        }
      },
      "execution_count": 38,
      "outputs": [
        {
          "output_type": "stream",
          "name": "stdout",
          "text": [
            "Ingreso : 1000\n",
            "Ingreso : 2000\n",
            "Ingreso : 3000\n",
            "Ingreso : 2000\n",
            "Ingreso : 1500\n",
            "Ingreso : 2300\n",
            "Ingreso : 2345\n"
          ]
        }
      ]
    },
    {
      "cell_type": "markdown",
      "source": [
        "usar la estructura for para calcular el ingreso anual (ingreso * 12) sin mostrar el calculo, finalmente mostrar la lista completa"
      ],
      "metadata": {
        "id": "DGsQHdGbqy_j"
      }
    },
    {
      "cell_type": "code",
      "source": [
        "for ingreso in ingresos:     #ingreso es temporal\n",
        "   ingreso_anual= ingreso *12  # ingreso_anual es temporal\n",
        "ingresos  # error / no ejecuta la operacion de arriba"
      ],
      "metadata": {
        "id": "gXh7shI_p3J9",
        "outputId": "3f3ccf18-4fff-4d97-e467-48329ac35977",
        "colab": {
          "base_uri": "https://localhost:8080/"
        }
      },
      "execution_count": 43,
      "outputs": [
        {
          "output_type": "execute_result",
          "data": {
            "text/plain": [
              "[1000, 2000, 3000, 2000, 1500, 2300, 2345]"
            ]
          },
          "metadata": {},
          "execution_count": 43
        }
      ]
    },
    {
      "cell_type": "code",
      "source": [
        "ingreso_anual  # solo te dara el ultimo valor / seria un error"
      ],
      "metadata": {
        "id": "UE1nnJ69rsd7",
        "outputId": "9b35466b-8e05-4b3a-fa79-3ad9a1361efd",
        "colab": {
          "base_uri": "https://localhost:8080/"
        }
      },
      "execution_count": 44,
      "outputs": [
        {
          "output_type": "execute_result",
          "data": {
            "text/plain": [
              "28140"
            ]
          },
          "metadata": {},
          "execution_count": 44
        }
      ]
    },
    {
      "cell_type": "code",
      "source": [
        "ingresos[0] = ingreso * 12  # error/  toma el ultimo valor de ingreso que fue 28140 / no la ubicacion [0]\n",
        "ingresos                  # por al inicio lo muestra es 2810 x 12 =  28140"
      ],
      "metadata": {
        "id": "DIEdcG3Tuhmb",
        "outputId": "a65db6ad-9528-4042-bd46-0b982c0361aa",
        "colab": {
          "base_uri": "https://localhost:8080/"
        }
      },
      "execution_count": 46,
      "outputs": [
        {
          "output_type": "execute_result",
          "data": {
            "text/plain": [
              "[28140, 2000, 3000, 2000, 1500, 2300, 2345]"
            ]
          },
          "metadata": {},
          "execution_count": 46
        }
      ]
    },
    {
      "cell_type": "markdown",
      "source": [
        "Ejemplo 2: Recorrer un diccionario de clientes"
      ],
      "metadata": {
        "id": "yTflWWvp3hI1"
      }
    },
    {
      "cell_type": "code",
      "source": [
        "for id_cliente in clientes:\n",
        "    print(\"ID:\", id_cliente, \"Ingreso:\", clientes[id_cliente][\"ingreso\"])"
      ],
      "metadata": {
        "id": "1jReTnvu3kG0"
      },
      "execution_count": null,
      "outputs": []
    },
    {
      "cell_type": "markdown",
      "source": [
        "Ejemplo 3: Contar cuántos clientes tienen ingreso > 3000"
      ],
      "metadata": {
        "id": "wQeoR3Lz3mpd"
      }
    },
    {
      "cell_type": "code",
      "source": [
        "contador = 0\n",
        "for cliente in clientes.values():\n",
        "    if cliente[\"ingreso\"] > 3000:\n",
        "        contador += 1\n",
        "print(\"Clientes con alto ingreso:\", contador)"
      ],
      "metadata": {
        "id": "BO6QccEn3pvU"
      },
      "execution_count": null,
      "outputs": []
    },
    {
      "cell_type": "markdown",
      "source": [
        "Ejemplo 4: Crear una lista con tasas ajustadas"
      ],
      "metadata": {
        "id": "Z1DZYAfj3sRL"
      }
    },
    {
      "cell_type": "code",
      "source": [
        "tasas = [0.05, 0.07, 0.08]\n",
        "tasas_ajustadas = []\n",
        "for tasa in tasas:\n",
        "    tasas_ajustadas.append(tasa + 0.01)\n",
        "print(tasas_ajustadas)"
      ],
      "metadata": {
        "id": "jerZ3Pbp3v_-"
      },
      "execution_count": null,
      "outputs": []
    },
    {
      "cell_type": "markdown",
      "source": [
        "Ejemplo 5: Reporte de evaluación"
      ],
      "metadata": {
        "id": "vDmAijzk30aP"
      }
    },
    {
      "cell_type": "code",
      "source": [
        "clientes = [\"Ana\", \"Luis\", \"Sofía\"]\n",
        "for nombre in clientes:\n",
        "    print(f\"Evaluación enviada a {nombre}\")"
      ],
      "metadata": {
        "id": "b4ah9HGJ32bn"
      },
      "execution_count": null,
      "outputs": []
    },
    {
      "cell_type": "markdown",
      "source": [],
      "metadata": {
        "id": "3J9EUJLG3oos"
      }
    }
  ]
}