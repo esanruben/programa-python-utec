{
  "nbformat": 4,
  "nbformat_minor": 0,
  "metadata": {
    "colab": {
      "provenance": [],
      "include_colab_link": true
    },
    "kernelspec": {
      "name": "python3",
      "display_name": "Python 3"
    },
    "language_info": {
      "name": "python"
    }
  },
  "cells": [
    {
      "cell_type": "markdown",
      "metadata": {
        "id": "view-in-github",
        "colab_type": "text"
      },
      "source": [
        "<a href=\"https://colab.research.google.com/github/esanruben/programa-python-utec/blob/main/copia_de_clase_8_funciones_y_range_en_python.ipynb\" target=\"_parent\"><img src=\"https://colab.research.google.com/assets/colab-badge.svg\" alt=\"Open In Colab\"/></a>"
      ]
    },
    {
      "cell_type": "markdown",
      "source": [
        "# Funciones y Range en Python"
      ],
      "metadata": {
        "id": "X1el0Wz1JZqY"
      }
    },
    {
      "cell_type": "markdown",
      "source": [
        "**1. INTRODUCCIÓN**\n",
        "\n",
        "**Objetivo de la clase:**\n",
        "\n",
        "- Comprender qué son las funciones y cómo se usan en Python.\n",
        "\n",
        "- Comprender el uso de range() como herramienta de iteración.\n",
        "\n",
        "- Aplicar ambos conceptos en contextos de marketing, finanzas y ecommerce."
      ],
      "metadata": {
        "id": "ywsKcY8cJfJo"
      }
    },
    {
      "cell_type": "markdown",
      "source": [
        "**2. FUNCIONES EN PYTHON**\n",
        "\n",
        "**¿Qué es una función?**\n",
        "\n",
        "Una función es un bloque de código reutilizable que se puede ejecutar cuando sea necesario. **Ayuda a organizar el código y evitar repeticiones.**"
      ],
      "metadata": {
        "id": "LQuCiXPzJojH"
      }
    },
    {
      "cell_type": "markdown",
      "source": [
        "**Estructura básica:**"
      ],
      "metadata": {
        "id": "7AK84BGCJszm"
      }
    },
    {
      "cell_type": "code",
      "execution_count": null,
      "metadata": {
        "id": "htagfLrqJPYN"
      },
      "outputs": [],
      "source": [
        "def nombre_de_funcion(parametros):\n",
        "    # bloque de código\n",
        "    return resultado"
      ]
    },
    {
      "cell_type": "markdown",
      "source": [
        "**Ejemplo 1**\n",
        "\n",
        "Diseñar una función que calcule el interés en monto que pagará un cliente al tomar un crédito, use como inputs (capital en soles, tasa de interés y duración del crédito en meses)"
      ],
      "metadata": {
        "id": "NW7S7xplKMGT"
      }
    },
    {
      "cell_type": "code",
      "source": [
        "def calcular_interes(capital, tasa, tiempo):\n",
        "    interes = capital * tasa * tiempo\n",
        "    return interes"
      ],
      "metadata": {
        "id": "Rr6v1Y70KmYN"
      },
      "execution_count": null,
      "outputs": []
    },
    {
      "cell_type": "code",
      "source": [
        "calcular_interes(1000, 0.05, 1) #se muestra no se usa print"
      ],
      "metadata": {
        "id": "4bSk54gWTzOl",
        "outputId": "5047e97b-7e36-48f1-934a-05809297dc2f",
        "colab": {
          "base_uri": "https://localhost:8080/"
        }
      },
      "execution_count": null,
      "outputs": [
        {
          "output_type": "execute_result",
          "data": {
            "text/plain": [
              "50.0"
            ]
          },
          "metadata": {},
          "execution_count": 3
        }
      ]
    },
    {
      "cell_type": "code",
      "source": [
        "print(calcular_interes(1000, 0.05, 1))  # Resultado: 50.0"
      ],
      "metadata": {
        "id": "14HMlvihKrhq"
      },
      "execution_count": null,
      "outputs": []
    },
    {
      "cell_type": "markdown",
      "source": [
        "**Ejemplo 2**\n",
        "\n",
        "Diseñar una función que calcule el nuevo precio incluyendo el descuento de una campaña específica, use como inputs (precio en soles y descuento en porcentaje)"
      ],
      "metadata": {
        "id": "6xNqUFtzKzW9"
      }
    },
    {
      "cell_type": "code",
      "source": [
        "def descuento(precio, descuento):\n",
        "  precio_nuevo=precio*(1-descuento/100) # 1 es el total,  descuento es porcentaje, precio con dscto precio  * ()\n",
        "  return precio_nuevo"
      ],
      "metadata": {
        "id": "Q-5Sht1vUuiR"
      },
      "execution_count": null,
      "outputs": []
    },
    {
      "cell_type": "code",
      "source": [
        "descuento(200,10)"
      ],
      "metadata": {
        "id": "cJMUEHIZVeLO",
        "outputId": "9c9257ef-d0d7-4eeb-d925-face5bde3032",
        "colab": {
          "base_uri": "https://localhost:8080/"
        }
      },
      "execution_count": null,
      "outputs": [
        {
          "output_type": "execute_result",
          "data": {
            "text/plain": [
              "180.0"
            ]
          },
          "metadata": {},
          "execution_count": 6
        }
      ]
    },
    {
      "cell_type": "markdown",
      "source": [
        "**Ejemplo 3**\n",
        "\n",
        "Diseñar una función que calcule el cpcc (Costo por Click) de un ad publicitario en internet, considerde como input (Tarifa en soles que se aplicará por click, número de clicks en el Ad)"
      ],
      "metadata": {
        "id": "zU28K4nWLe2N"
      }
    },
    {
      "cell_type": "code",
      "source": [
        "def ppc(tarifa, clic):\n",
        "  costoclic = tarifa * clic\n",
        "  return costoclic"
      ],
      "metadata": {
        "id": "Y1MVS-3RXJFQ"
      },
      "execution_count": null,
      "outputs": []
    },
    {
      "cell_type": "code",
      "source": [
        "ppc(.1, 400)"
      ],
      "metadata": {
        "id": "zGdUEplwXVIJ",
        "outputId": "5e4edd55-d756-4c00-e75c-38fb236d1b10",
        "colab": {
          "base_uri": "https://localhost:8080/"
        }
      },
      "execution_count": null,
      "outputs": [
        {
          "output_type": "execute_result",
          "data": {
            "text/plain": [
              "40.0"
            ]
          },
          "metadata": {},
          "execution_count": 8
        }
      ]
    },
    {
      "cell_type": "markdown",
      "source": [
        "**2. RANGE EN PYTHON**\n",
        "\n",
        "**¿Qué es range()?**\n",
        "\n",
        "range() genera una secuencia de números, comúnmente usada para repetir acciones un número definido de veces."
      ],
      "metadata": {
        "id": "isGog95fMNbO"
      }
    },
    {
      "cell_type": "markdown",
      "source": [
        "**Estructura básica:**"
      ],
      "metadata": {
        "id": "-oR_Etb6MXAD"
      }
    },
    {
      "cell_type": "code",
      "source": [
        "range(inicio, fin, paso)"
      ],
      "metadata": {
        "id": "d8XGHQQkLT0Q"
      },
      "execution_count": null,
      "outputs": []
    },
    {
      "cell_type": "markdown",
      "source": [
        "**Ejemplo 1**"
      ],
      "metadata": {
        "id": "bLDJfdmEMbfS"
      }
    },
    {
      "cell_type": "code",
      "source": [
        "for i in range(5):\n",
        "    print(i)  # Imprime del 0 al 4"
      ],
      "metadata": {
        "id": "mmyPk4RzMcNg",
        "outputId": "e4051e7f-7d72-4c19-8e0f-fe663a74e20b",
        "colab": {
          "base_uri": "https://localhost:8080/"
        }
      },
      "execution_count": null,
      "outputs": [
        {
          "output_type": "stream",
          "name": "stdout",
          "text": [
            "0\n",
            "1\n",
            "2\n",
            "3\n",
            "4\n"
          ]
        }
      ]
    },
    {
      "cell_type": "code",
      "source": [
        "range(5)"
      ],
      "metadata": {
        "id": "Bfa4R9QTZbsO",
        "outputId": "eb353d52-5558-4a99-86b4-f2547ed4ce1a",
        "colab": {
          "base_uri": "https://localhost:8080/"
        }
      },
      "execution_count": null,
      "outputs": [
        {
          "output_type": "execute_result",
          "data": {
            "text/plain": [
              "range(0, 5)"
            ]
          },
          "metadata": {},
          "execution_count": 10
        }
      ]
    },
    {
      "cell_type": "markdown",
      "source": [
        "**Ejemplo 2**\n",
        "\n",
        "Diseñe una función que presente el portafolio de productos que tiene un negocio"
      ],
      "metadata": {
        "id": "valEOhXnMh5T"
      }
    },
    {
      "cell_type": "code",
      "source": [
        "productos = [\"zapatos\", \"camisa\", \"pantalón\"]\n",
        "for i in range(len(productos)):\n",
        "    print(\"Producto:\", productos[i])"
      ],
      "metadata": {
        "id": "h8eQF6oeMiYZ"
      },
      "execution_count": null,
      "outputs": []
    },
    {
      "cell_type": "markdown",
      "source": [
        "**4. EJERCICIOS DE PRÁCTICA EN CLASE**\n",
        "\n",
        "**Funciones:**\n",
        "\n",
        "1. Crear una función que calcule el IGV (18%) de una venta.\n",
        "\n",
        "2. Crear una función que reciba una lista de ingresos mensuales y devuelva el promedio.\n",
        "\n",
        "3. Crear una función que indique si un cliente es \"Premium\" (si tiene más de 3 productos).\n",
        "\n",
        "**Range:**\n",
        "\n",
        "1. Usar range() para imprimir los primeros 10 múltiplos de 5.\n",
        "\n",
        "2. Usar range() para simular 6 meses de ahorro mensual y mostrar el total ahorrado."
      ],
      "metadata": {
        "id": "4xIvrZsOM41P"
      }
    },
    {
      "cell_type": "code",
      "source": [
        "def igv(precio):\n",
        "  precio_nuevo=round(precio*0.18,2)\n",
        "  return precio_nuevo"
      ],
      "metadata": {
        "id": "6daAvj9McloY"
      },
      "execution_count": null,
      "outputs": []
    },
    {
      "cell_type": "code",
      "source": [
        "igv(240)"
      ],
      "metadata": {
        "id": "DHv6Ikqbcv-m",
        "outputId": "61a7c5a9-863c-4579-ac2a-420f4039a8dc",
        "colab": {
          "base_uri": "https://localhost:8080/"
        }
      },
      "execution_count": null,
      "outputs": [
        {
          "output_type": "execute_result",
          "data": {
            "text/plain": [
              "43.2"
            ]
          },
          "metadata": {},
          "execution_count": 29
        }
      ]
    },
    {
      "cell_type": "code",
      "source": [
        "ingresos=[2500,3000,2800,3100]"
      ],
      "metadata": {
        "id": "2S_T4jCje1gN"
      },
      "execution_count": null,
      "outputs": []
    },
    {
      "cell_type": "code",
      "source": [
        "ingresos_a=[2500,3000,2400,3100]"
      ],
      "metadata": {
        "id": "qSNpODKJnXgz"
      },
      "execution_count": null,
      "outputs": []
    },
    {
      "cell_type": "code",
      "source": [
        "ingresos_b=[2500,300,280,3100]"
      ],
      "metadata": {
        "id": "NHkHtwFNnb2M"
      },
      "execution_count": null,
      "outputs": []
    },
    {
      "cell_type": "code",
      "source": [
        "#funciones ejercicio 2\n",
        "\n",
        "def prom_ingresos(lista_ingresos): #paramentros puede ser variable, lista o\n",
        "    if len(lista_ingresos) == 0: # para funcion no retorne error\n",
        "        return 0\n",
        "    suma = sum(lista_ingresos)            #estos datos determinan que voy a trabajar\n",
        "    promedio = suma / len(lista_ingresos) # ejemplo aqui usa len y len se usa para lista por ende python que es una lista\n",
        "    return promedio\n"
      ],
      "metadata": {
        "id": "cYF7S-CFeZII"
      },
      "execution_count": null,
      "outputs": []
    },
    {
      "cell_type": "code",
      "source": [
        "prom_ingresos(ingresos)"
      ],
      "metadata": {
        "id": "jqLxP80fnfR1",
        "outputId": "6717c03c-726c-4cb2-e645-266ddd0678d1",
        "colab": {
          "base_uri": "https://localhost:8080/"
        }
      },
      "execution_count": null,
      "outputs": [
        {
          "output_type": "execute_result",
          "data": {
            "text/plain": [
              "2850.0"
            ]
          },
          "metadata": {},
          "execution_count": 44
        }
      ]
    },
    {
      "cell_type": "code",
      "source": [
        "prom_ingresos(ingresos_a)"
      ],
      "metadata": {
        "id": "f6jfQ8SsnqtV",
        "outputId": "dc6d3b8c-9b85-4639-f9f3-933a00d2f43a",
        "colab": {
          "base_uri": "https://localhost:8080/"
        }
      },
      "execution_count": null,
      "outputs": [
        {
          "output_type": "execute_result",
          "data": {
            "text/plain": [
              "2750.0"
            ]
          },
          "metadata": {},
          "execution_count": 45
        }
      ]
    },
    {
      "cell_type": "code",
      "source": [
        "lista_producto=[\"laptop\",\"disco duro\",\"tablet\"]"
      ],
      "metadata": {
        "id": "s__8HU1KpIxl"
      },
      "execution_count": 47,
      "outputs": []
    },
    {
      "cell_type": "code",
      "source": [
        "lista_producto_a=[\"laptop\",\"disco duro\",\"tablet\",\"celular\"]"
      ],
      "metadata": {
        "id": "ImwXAs2LpXJb"
      },
      "execution_count": 48,
      "outputs": []
    },
    {
      "cell_type": "code",
      "source": [
        "#ejercicio 3\n",
        "\n",
        "def premium(cantidad):\n",
        "  if len(cantidad)> 3:  # necesito saber la cantidad de la lista\n",
        "    return \"eres premium\"\n",
        "  else:\n",
        "    return \"no eres premium\"  # siempre se  usa return en la definicion"
      ],
      "metadata": {
        "id": "-RTCck3HouxC"
      },
      "execution_count": 54,
      "outputs": []
    },
    {
      "cell_type": "code",
      "source": [
        "premium(lista_producto)"
      ],
      "metadata": {
        "id": "2C815qY0pG5t",
        "outputId": "d2f10941-0a42-49e1-b454-7ef6429d8cb6",
        "colab": {
          "base_uri": "https://localhost:8080/"
        }
      },
      "execution_count": 51,
      "outputs": [
        {
          "output_type": "stream",
          "name": "stdout",
          "text": [
            "no eres premium\n"
          ]
        }
      ]
    },
    {
      "cell_type": "code",
      "source": [
        "premium(lista_producto_a)"
      ],
      "metadata": {
        "id": "H96JeA8bpuXb",
        "outputId": "be3b6cca-11f1-49fa-bfbb-34cd0f19fff3",
        "colab": {
          "base_uri": "https://localhost:8080/"
        }
      },
      "execution_count": 52,
      "outputs": [
        {
          "output_type": "stream",
          "name": "stdout",
          "text": [
            "eres premium\n"
          ]
        }
      ]
    },
    {
      "cell_type": "code",
      "source": [
        "#range\n",
        "#ejercicio 1\n",
        "\n",
        "def multiplos  (numeros):\n",
        "  for i in range(10):\n",
        "    print(i*5)         # como ya devuelve un valor, la funcion no necesita return\n",
        ""
      ],
      "metadata": {
        "id": "eyfW8EnjsHSm"
      },
      "execution_count": 62,
      "outputs": []
    },
    {
      "cell_type": "code",
      "source": [
        "multiplos(10)"
      ],
      "metadata": {
        "id": "arUfNmhbs44Z",
        "outputId": "b97983cb-2884-43e9-f2e3-bdba33c8fd81",
        "colab": {
          "base_uri": "https://localhost:8080/"
        }
      },
      "execution_count": 63,
      "outputs": [
        {
          "output_type": "stream",
          "name": "stdout",
          "text": [
            "0\n",
            "5\n",
            "10\n",
            "15\n",
            "20\n",
            "25\n",
            "30\n",
            "35\n",
            "40\n",
            "45\n"
          ]
        }
      ]
    },
    {
      "cell_type": "code",
      "source": [
        "#range\n",
        "#ejercicio 2\n",
        "# Usar range() para simular 6 meses de ahorro mensual y mostrar el total ahorrado.\n",
        "\n",
        "def sum_mes (monto_mes):\n",
        "    total=0\n",
        "    for meses in range(6):\n",
        "      total= total + monto_mes\n",
        "    return total\n",
        ""
      ],
      "metadata": {
        "id": "Su3RnRQHxGTG"
      },
      "execution_count": 78,
      "outputs": []
    },
    {
      "cell_type": "code",
      "source": [
        "sum_mes(100)"
      ],
      "metadata": {
        "id": "U1Fuzt0-xlZ2",
        "outputId": "bb2c61cc-9164-4a26-d8e5-763050373daf",
        "colab": {
          "base_uri": "https://localhost:8080/"
        }
      },
      "execution_count": 80,
      "outputs": [
        {
          "output_type": "execute_result",
          "data": {
            "text/plain": [
              "600"
            ]
          },
          "metadata": {},
          "execution_count": 80
        }
      ]
    },
    {
      "cell_type": "code",
      "source": [
        "#range\n",
        "#ejercicio 2\n",
        "# Usar range() para simular 6 meses de ahorro mensual y mostrar el total ahorrado.\n",
        "\n",
        "def sum_mes (lista_ahorros):   # este caso le doy una lista\n",
        "    total=0\n",
        "    for meses in range(len(lista_ahorros)): #meses los elementos que estan en lista\n",
        "      total= total + lista_ahorros[meses]\n",
        "    return total"
      ],
      "metadata": {
        "id": "-VYUDlIh0Orb"
      },
      "execution_count": 83,
      "outputs": []
    },
    {
      "cell_type": "code",
      "source": [
        "meses6=[100,200,300,400,500,600]"
      ],
      "metadata": {
        "id": "WUgJUEIzxo9G"
      },
      "execution_count": 81,
      "outputs": []
    },
    {
      "cell_type": "code",
      "source": [
        "sum_mes(meses6)"
      ],
      "metadata": {
        "id": "XOwksOx_0vx3",
        "outputId": "7b6486e2-8ff0-4fa7-906f-cfb22d2526bd",
        "colab": {
          "base_uri": "https://localhost:8080/"
        }
      },
      "execution_count": 85,
      "outputs": [
        {
          "output_type": "execute_result",
          "data": {
            "text/plain": [
              "2100"
            ]
          },
          "metadata": {},
          "execution_count": 85
        }
      ]
    },
    {
      "cell_type": "markdown",
      "source": [
        "# **Entendiendo como trabaja la funcion de adentro hacia afuera**"
      ],
      "metadata": {
        "id": "tmNFBC3SnG6H"
      }
    },
    {
      "cell_type": "code",
      "source": [
        "sum(ingresos)"
      ],
      "metadata": {
        "id": "O1HH38QnlITI",
        "outputId": "da2147e1-53b5-4a95-cef5-67b1c8adfe3f",
        "colab": {
          "base_uri": "https://localhost:8080/"
        }
      },
      "execution_count": null,
      "outputs": [
        {
          "output_type": "execute_result",
          "data": {
            "text/plain": [
              "11400"
            ]
          },
          "metadata": {},
          "execution_count": 37
        }
      ]
    },
    {
      "cell_type": "code",
      "source": [
        "len(ingresos)"
      ],
      "metadata": {
        "id": "s1pVeZ50lWRv",
        "outputId": "636827df-29d2-4b5b-9e7f-6b5de784afd2",
        "colab": {
          "base_uri": "https://localhost:8080/"
        }
      },
      "execution_count": null,
      "outputs": [
        {
          "output_type": "execute_result",
          "data": {
            "text/plain": [
              "4"
            ]
          },
          "metadata": {},
          "execution_count": 38
        }
      ]
    },
    {
      "cell_type": "code",
      "source": [
        "sum(ingresos) / len(ingresos)"
      ],
      "metadata": {
        "id": "943pdIdOlaNe",
        "outputId": "69745b46-652d-4fd1-8112-0c0174ecf645",
        "colab": {
          "base_uri": "https://localhost:8080/"
        }
      },
      "execution_count": null,
      "outputs": [
        {
          "output_type": "execute_result",
          "data": {
            "text/plain": [
              "2850.0"
            ]
          },
          "metadata": {},
          "execution_count": 39
        }
      ]
    },
    {
      "cell_type": "markdown",
      "source": [
        "**5. MINI PROYECTO FINAL**\n",
        "\n",
        "**Descripción:**\n",
        "\n",
        "Simular un sistema básico para evaluar el rendimiento financiero de clientes bancarios.\n",
        "\n",
        "**Requisitos:**\n",
        "\n",
        "- Lista de clientes (IDs)\n",
        "\n",
        "- Diccionario con ingresos mensuales\n",
        "\n",
        "- Funciones para:\n",
        "\n",
        "- Calcular ingreso anual\n",
        "\n",
        "- Clasificar al cliente (alto, medio, bajo ingreso)\n",
        "\n",
        "- Uso de range para simular 12 meses\n",
        "\n",
        "- Uso de if, else, for, while"
      ],
      "metadata": {
        "id": "qZKELUZANEtx"
      }
    },
    {
      "cell_type": "code",
      "source": [],
      "metadata": {
        "id": "ZnzK9eFCNW9F"
      },
      "execution_count": null,
      "outputs": []
    }
  ]
}