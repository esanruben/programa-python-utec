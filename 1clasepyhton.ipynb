{
  "nbformat": 4,
  "nbformat_minor": 0,
  "metadata": {
    "colab": {
      "provenance": [],
      "authorship_tag": "ABX9TyMCvtPIpWLvM5vCXhhbxtMF",
      "include_colab_link": true
    },
    "kernelspec": {
      "name": "python3",
      "display_name": "Python 3"
    },
    "language_info": {
      "name": "python"
    }
  },
  "cells": [
    {
      "cell_type": "markdown",
      "metadata": {
        "id": "view-in-github",
        "colab_type": "text"
      },
      "source": [
        "<a href=\"https://colab.research.google.com/github/esanruben/programa-python-utec/blob/main/1clasepyhton.ipynb\" target=\"_parent\"><img src=\"https://colab.research.google.com/assets/colab-badge.svg\" alt=\"Open In Colab\"/></a>"
      ]
    },
    {
      "cell_type": "markdown",
      "source": [],
      "metadata": {
        "id": "sYVAtNpXHdwt"
      }
    },
    {
      "cell_type": "code",
      "source": [],
      "metadata": {
        "id": "3vQqgrB3A636"
      },
      "execution_count": null,
      "outputs": []
    },
    {
      "cell_type": "markdown",
      "source": [
        "hola testeando github"
      ],
      "metadata": {
        "id": "EX5sVUmbA8Vz"
      }
    },
    {
      "cell_type": "code",
      "source": [],
      "metadata": {
        "id": "4X_hH7L6BAIx"
      },
      "execution_count": null,
      "outputs": []
    }
  ]
}