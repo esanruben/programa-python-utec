{
  "nbformat": 4,
  "nbformat_minor": 0,
  "metadata": {
    "colab": {
      "provenance": [],
      "collapsed_sections": [
        "Tl_dVlHvpZmi",
        "MVVZqDDapmUB"
      ],
      "include_colab_link": true
    },
    "kernelspec": {
      "name": "python3",
      "display_name": "Python 3"
    },
    "language_info": {
      "name": "python"
    }
  },
  "cells": [
    {
      "cell_type": "markdown",
      "metadata": {
        "id": "view-in-github",
        "colab_type": "text"
      },
      "source": [
        "<a href=\"https://colab.research.google.com/github/esanruben/programa-python-utec/blob/main/Sesi%C3%B3n_5_Ejemplos.ipynb\" target=\"_parent\"><img src=\"https://colab.research.google.com/assets/colab-badge.svg\" alt=\"Open In Colab\"/></a>"
      ]
    },
    {
      "cell_type": "markdown",
      "source": [
        "![picture](https://drive.google.com/uc?export=view&id=1KaUW3_JAieeY7WVNfoRiTSr2JsaeAcXi)"
      ],
      "metadata": {
        "id": "zefFyw2HgFyT"
      }
    },
    {
      "cell_type": "markdown",
      "source": [
        "![image.png](data:image/png;base64,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)"
      ],
      "metadata": {
        "id": "_rrmuYU8gLYi"
      }
    },
    {
      "cell_type": "markdown",
      "source": [
        "# Ejemplos\n",
        "# Módulo 3 - Sesión 5\n",
        "## Profesor: Germain Garcia Zanabria\n",
        "\n",
        "\n"
      ],
      "metadata": {
        "id": "IfmlRelGgPHU"
      }
    },
    {
      "cell_type": "markdown",
      "source": [
        "# **Ejemplos de gráficos usando solo Pandas**"
      ],
      "metadata": {
        "id": "Ej_njY0XDgFU"
      }
    },
    {
      "cell_type": "markdown",
      "source": [
        "## 1. Ejemplo Plot con Pandas\n",
        "\n",
        "Visualización de ventas"
      ],
      "metadata": {
        "id": "oXa3Ae69BTaL"
      }
    },
    {
      "cell_type": "code",
      "source": [
        "import pandas as pd\n",
        "a = pd.date_range(start='1/1/2021', periods=10, freq='5D') # 5D salte cada 5 dias"
      ],
      "metadata": {
        "id": "1CxrNqxjg1zF"
      },
      "execution_count": null,
      "outputs": []
    },
    {
      "cell_type": "code",
      "source": [
        "import pandas as pd\n",
        "data = {\n",
        "    'Fecha': pd.date_range(start='1/1/2021', periods=10, freq='5D'),\n",
        "    'Ventas': [200, 220, 230, 210, 215, 220, 225, 230, 240, 245]\n",
        "}"
      ],
      "metadata": {
        "id": "aspEWLN2guOE"
      },
      "execution_count": null,
      "outputs": []
    },
    {
      "cell_type": "code",
      "source": [
        "import pandas as pd\n",
        "\n",
        "\n",
        "data = {\n",
        "    'Fecha': pd.date_range(start='1/1/2021', periods=10, freq='5D'),\n",
        "    'Ventas': [200, 220, 230, 210, 215, 220, 225, 230, 240, 245]\n",
        "}\n",
        "df = pd.DataFrame(data)\n",
        "\n",
        "df.set_index('Fecha', inplace=True)\n",
        "\n",
        "# Crear un gráfico de líneas\n",
        "df.plot(title='Ventas Diarias', xlabel='Fecha', ylabel='Ventas', grid=True)"
      ],
      "metadata": {
        "id": "O8gEnI3RBYR6"
      },
      "execution_count": null,
      "outputs": []
    },
    {
      "cell_type": "markdown",
      "source": [
        "## 2. Gráfico de Barras"
      ],
      "metadata": {
        "id": "UF9xttD8C1wt"
      }
    },
    {
      "cell_type": "code",
      "source": [
        "import pandas as pd\n",
        "\n",
        "# Crear un DataFrame de ejemplo\n",
        "data = {\n",
        "    'Producto': ['A', 'B', 'C', 'D'],\n",
        "    'Ventas': [200, 150, 300, 250]\n",
        "}\n",
        "df = pd.DataFrame(data)\n",
        "\n",
        "df.plot(kind='bar', x='Producto', y='Ventas', title='Ventas por Producto', xlabel='Producto', ylabel='Ventas', color='skyblue', grid=True)\n"
      ],
      "metadata": {
        "id": "-EDYMsPwC2Gr"
      },
      "execution_count": null,
      "outputs": []
    },
    {
      "cell_type": "markdown",
      "source": [
        "## 3. Gráfico de Caja"
      ],
      "metadata": {
        "id": "3GvtTibjFKyz"
      }
    },
    {
      "cell_type": "code",
      "source": [
        "import pandas as pd\n",
        "\n",
        "# Crear un DataFrame de ejemplo\n",
        "data = {\n",
        "    'Grupo': ['A', 'A', 'A', 'B', 'B', 'B', 'C', 'C', 'C'],\n",
        "    'Valores': [10, 12, 14, 15, 17, 19, 20, 22, 24]\n",
        "}\n",
        "df = pd.DataFrame(data)\n",
        "\n",
        "# Crear un gráfico de caja\n",
        "df.boxplot(by='Grupo', column=['Valores'], grid=False)\n"
      ],
      "metadata": {
        "id": "lrC_IQ3uFKhc"
      },
      "execution_count": null,
      "outputs": []
    },
    {
      "cell_type": "markdown",
      "source": [
        "# **Gráficos con Seaborn**"
      ],
      "metadata": {
        "id": "rEsmklGuDrh3"
      }
    },
    {
      "cell_type": "markdown",
      "source": [
        "Vamos a ver una comparación simple de Seaborn vs Matplotlib"
      ],
      "metadata": {
        "id": "wQvXLnb_DCaG"
      }
    },
    {
      "cell_type": "code",
      "source": [
        "import seaborn as sns\n",
        "import matplotlib.pyplot as plt"
      ],
      "metadata": {
        "id": "Ukx2FY7GDJd2"
      },
      "execution_count": null,
      "outputs": []
    },
    {
      "cell_type": "code",
      "source": [
        "sns.get_dataset_names()"
      ],
      "metadata": {
        "id": "FcQaZYG3DPUE"
      },
      "execution_count": null,
      "outputs": []
    },
    {
      "cell_type": "code",
      "source": [
        "iris =sns.load_dataset('iris')\n",
        "iris"
      ],
      "metadata": {
        "id": "5aqo1gngDSpc"
      },
      "execution_count": null,
      "outputs": []
    },
    {
      "cell_type": "code",
      "source": [
        "#Matplotlib\n",
        "plt.scatter(iris['sepal_length'], iris['sepal_width'])"
      ],
      "metadata": {
        "id": "oH46DXjmDgSP"
      },
      "execution_count": null,
      "outputs": []
    },
    {
      "cell_type": "code",
      "source": [
        "#seaborn\n",
        "sns.scatterplot(x='sepal_length', y='sepal_width',data=iris) #hue='species'"
      ],
      "metadata": {
        "id": "2QBouFMpDl-8"
      },
      "execution_count": null,
      "outputs": []
    },
    {
      "cell_type": "markdown",
      "source": [
        "## 1. Ejemplo Replot\n",
        "### Visualización de relaciones entre múltiples variables usando Replot\n",
        "\n",
        "Replot es una función de alto nivel para crear gráficos de relaciones como **gráficos de dispersión** (scatter plots) y **gráficos de líneas** (line plots).\n",
        "\n",
        "En este ejemplo veremos un gráfico de relación donde se visualizan las millas por galón en relación con los caballos de fuerza, con los puntos diferenciados por origen (color) y peso (tamaño)."
      ],
      "metadata": {
        "id": "TTRFZj2G-vaM"
      }
    },
    {
      "cell_type": "code",
      "source": [
        "import seaborn as sns\n",
        "mpg = sns.load_dataset(\"mpg\", data_home=\".\")\n",
        "mpg"
      ],
      "metadata": {
        "id": "64DN9gGUTcxr"
      },
      "execution_count": null,
      "outputs": []
    },
    {
      "cell_type": "markdown",
      "source": [
        "Mostrar el consumo de conbustible de millas por galón"
      ],
      "metadata": {
        "id": "qBqIl3XsAlXf"
      }
    },
    {
      "cell_type": "code",
      "source": [
        "import matplotlib.pyplot as plt\n",
        "import seaborn as sns\n",
        "\n",
        "\n",
        "# Establecer el tema de Seaborn con estilo \"white\"\n",
        "# Esto define el fondo blanco para los gráficos, haciéndolos más claros y fáciles de leer.\n",
        "sns.set_theme(style=\"white\")\n",
        "\n",
        "# Cargar el dataset de ejemplo 'mpg'\n",
        "mpg = sns.load_dataset(\"mpg\", data_home=\".\")\n",
        "\n",
        "# Cargar el conjunto de datos 'mpg' que contiene información sobre el consumo de combustible (millas por galón) y otras características de los automóviles.\n",
        "\n",
        "# Graficar millas por galón contra caballos de fuerza con otras semánticas\n",
        "sns.relplot(x=\"horsepower\", y=\"mpg\", hue=\"origin\",\n",
        "            size=\"weight\", sizes=(40, 400), alpha=.8,\n",
        "            palette=\"pastel\", height=6, data=mpg)\n",
        "\n",
        "# Crear un gráfico de relación (relplot) para visualizar millas por galón (mpg) contra caballos de fuerza (horsepower).\n",
        "# Parámetros:\n",
        "# - x: Columna 'horsepower' (caballos de fuerza) del dataframe 'mpg' para el eje x.\n",
        "# - y: Columna 'mpg' (millas por galón) del dataframe 'mpg' para el eje y.\n",
        "# - hue: Columna 'origin' (origen) para diferenciar los puntos por color según su origen.\n",
        "# - size: Columna 'weight' (peso) para ajustar el tamaño de los puntos según el peso del vehículo.\n",
        "# - sizes: Rango de tamaños de los puntos, desde 40 hasta 400.\n",
        "# - alpha: Transparencia de los puntos, con un valor de 0.4.\n",
        "# - palette: Paleta de colores \"muted\" para diferenciar los puntos según el origen.\n",
        "# - height: Altura del gráfico en pulgadas.\n",
        "# - data: El dataframe que contiene los datos a visualizar, en este caso, 'mpg'.\n",
        "\n",
        "#plt.show()"
      ],
      "metadata": {
        "id": "s8NWaH4RGPOx"
      },
      "execution_count": null,
      "outputs": []
    },
    {
      "cell_type": "markdown",
      "source": [
        "## 2. Ejemplo Swarmplot\n",
        "Visualización precisa de la distribución de datos categóricos.\n",
        "\n",
        "Este ejempo utiliza la función load_dataset de Seaborn para cargar el conjunto de datos `tips`.\n",
        "El conjunto de datos contiene información sobre propinas en un restaurante.\n"
      ],
      "metadata": {
        "id": "9tLwDLz6ejds"
      }
    },
    {
      "cell_type": "code",
      "source": [
        "import seaborn as sns\n",
        "import matplotlib.pyplot as plt\n",
        "\n",
        "# Cargar un dataset de ejemplo de Seaborn\n",
        "tips = sns.load_dataset('tips')\n",
        "\n",
        "# Crear un swarmplot\n",
        "sns.swarmplot(x='day', y='total_bill', hue='day', data=tips, palette='Set2', legend=False)\n",
        "\n",
        "# Swarmplot es un tipo de gráfico de dispersión que muestra puntos de datos individuales a lo largo de un eje categórico.\n",
        "# Parámetros:\n",
        "# - x: Columna del dataframe 'tips' que define el eje x, en este caso, 'day' (día de la semana).\n",
        "# - y: Columna del dataframe 'tips' que define el eje y, en este caso, 'total_bill' (total de la cuenta).\n",
        "# - hue: Variable categórica dentro de 'tips' que se utiliza para diferenciar los puntos por categoría, aquí 'day'.\n",
        "# - data: El dataframe que contiene los datos a visualizar.\n",
        "# - palette: Paleta de colores utilizada para diferenciar las categorías. 'Set2' es una de las paletas predefinidas en Seaborn.\n",
        "# - legend=False: Evita mostrar la leyenda en el gráfico, como se sugiere para evitar la advertencia sobre el uso de 'palette' sin 'hue'.\n",
        "\n",
        "# Añadir etiquetas y título\n",
        "plt.xlabel('Día de la semana')\n",
        "plt.ylabel('Total de la cuenta ($)')\n",
        "plt.title('Distribución del total de la cuenta por día')\n",
        "\n",
        "# Mostrar el gráfico\n",
        "plt.show()"
      ],
      "metadata": {
        "id": "FfYEdvZAGakw"
      },
      "execution_count": null,
      "outputs": []
    },
    {
      "cell_type": "markdown",
      "source": [
        "## 3. Ejemplo Histograma: comparando Matplotlib y Seaborn"
      ],
      "metadata": {
        "id": "33ujH1pspOGu"
      }
    },
    {
      "cell_type": "markdown",
      "source": [
        "### 3.1 Histograma con Matplotlib"
      ],
      "metadata": {
        "id": "Tl_dVlHvpZmi"
      }
    },
    {
      "cell_type": "code",
      "source": [
        "import matplotlib.pyplot as plt\n",
        "import pandas as pd\n",
        "\n",
        "# Datos de ejemplo (simulados)\n",
        "notas = pd.Series([85, 90, 88, 75, 70, 95, 80, 85, 90, 92, 78, 85, 89, 94, 77, 84, 82, 91, 87, 93])\n",
        "\n",
        "# Crear figura y ejes\n",
        "fig, ax = plt.subplots(figsize=(10, 6))\n",
        "\n",
        "# Crear el histograma\n",
        "ax.hist(notas, bins=10, edgecolor='black', color='skyblue')\n",
        "\n",
        "# Agregar una curva KDE (Kernel Density Estimate)\n",
        "from scipy.stats import gaussian_kde\n",
        "kde = gaussian_kde(notas)\n",
        "x_range = range(int(notas.min()), int(notas.max()) + 1)\n",
        "\n",
        "ax.plot(x_range, kde(x_range) * len(notas) * (max(notas) - min(notas)) / 10, color='darkblue')\n",
        "\n",
        "# Etiquetas y título\n",
        "ax.set_xlabel('Notas')\n",
        "ax.set_ylabel('Frecuencia')\n",
        "ax.set_title('Distribución de Notas de la Clase')\n",
        "\n",
        "# Mejorar la estética\n",
        "plt.tight_layout()\n",
        "\n",
        "# Mostrar el gráfico\n",
        "plt.show()\n"
      ],
      "metadata": {
        "id": "nP1FJzDv_aRN"
      },
      "execution_count": null,
      "outputs": []
    },
    {
      "cell_type": "markdown",
      "source": [
        "### 3.2 Histograma con Seaborn"
      ],
      "metadata": {
        "id": "MVVZqDDapmUB"
      }
    },
    {
      "cell_type": "code",
      "source": [
        "import seaborn as sns\n",
        "import matplotlib.pyplot as plt\n",
        "import pandas as pd\n",
        "\n",
        "# Datos de ejemplo (simulados)\n",
        "notas = pd.Series([85, 90, 88, 75, 70, 95, 80, 85, 90, 92, 78, 85, 89, 94, 77, 84, 82, 91, 87, 93])\n",
        "\n",
        "# Crear el histograma usando Seaborn\n",
        "sns.histplot(notas, bins=10, kde=True, color='b')\n",
        "\n",
        "# Etiquetas y título\n",
        "plt.xlabel('Notas')\n",
        "plt.ylabel('Frecuencia')\n",
        "plt.title('Distribución de Notas de la Clase')\n",
        "\n",
        "# Mostrar el gráfico\n",
        "plt.show()\n"
      ],
      "metadata": {
        "id": "USsnwbaE-zG4"
      },
      "execution_count": null,
      "outputs": []
    },
    {
      "cell_type": "markdown",
      "source": [
        "## 4. Combinando múltiples vistas de los datos\n",
        "\n",
        "Utiliza la función load_dataset de Seaborn para cargar el conjunto de datos 'penguins'.\n",
        "Este conjunto de datos contiene información sobre diferentes especies de pingüinos."
      ],
      "metadata": {
        "id": "OxYzYOEyp8WQ"
      }
    },
    {
      "cell_type": "code",
      "source": [
        "import seaborn as sns\n",
        "import matplotlib.pyplot as plt\n",
        "import pandas as pd\n",
        "\n",
        "# Cargar el dataset de ejemplo 'penguins'\n",
        "penguins = sns.load_dataset('penguins')\n",
        "\n",
        "print( penguins.head() )\n",
        "\n",
        "# Crear un jointplot\n",
        "sns.jointplot(data=penguins, x=\"flipper_length_mm\", y=\"bill_length_mm\", hue=\"species\")\n",
        "\n",
        "\n",
        "# flipper_length_mm: tamanho de aleta\n",
        "# bill_length_mm: longitud del pico\n",
        "\n",
        "# Crear un gráfico conjunto (jointplot) que muestra la relación entre la longitud de la aleta (flipper_length_mm) y la longitud del pico (bill_length_mm).\n",
        "# Parámetros:\n",
        "# - data: El dataframe que contiene los datos a visualizar, en este caso, 'penguins'.\n",
        "# - x: Columna del dataframe 'penguins' que define el eje x, en este caso, 'flipper_length_mm' (longitud de la aleta).\n",
        "# - y: Columna del dataframe 'penguins' que define el eje y, en este caso, 'bill_length_mm' (longitud del pico).\n",
        "# - hue: Variable categórica dentro de 'penguins' que se utiliza para diferenciar los puntos por especie, aquí 'species'.\n",
        "\n",
        "\n",
        "# Mostrar el gráfico\n",
        "plt.show()\n"
      ],
      "metadata": {
        "id": "jZ4Z5eDQp8Jv"
      },
      "execution_count": null,
      "outputs": []
    },
    {
      "cell_type": "markdown",
      "source": [
        "# Más ejemplos [aquí](https://seaborn.pydata.org/tutorial/function_overview.html)"
      ],
      "metadata": {
        "id": "34MClws8staI"
      }
    }
  ]
}